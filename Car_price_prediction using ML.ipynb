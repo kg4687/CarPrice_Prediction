{
  "nbformat": 4,
  "nbformat_minor": 0,
  "metadata": {
    "colab": {
      "provenance": []
    },
    "kernelspec": {
      "name": "python3",
      "display_name": "Python 3"
    },
    "language_info": {
      "name": "python"
    }
  },
  "cells": [
    {
      "cell_type": "code",
      "source": [
        "#IMPORTING LIBRARIES"
      ],
      "metadata": {
        "id": "MczquQrgrGdO"
      },
      "execution_count": 53,
      "outputs": []
    },
    {
      "cell_type": "code",
      "execution_count": 3,
      "metadata": {
        "id": "dbVObTgEQQfh"
      },
      "outputs": [],
      "source": [
        "import pandas as pd\n",
        "import numpy as np\n",
        "from sklearn.ensemble import RandomForestClassifier\n",
        "from sklearn.metrics import confusion_matrix\n"
        "import matplotlib.pyplot as plt\n",
        "import seaborn as sns\n",
        "from sklearn.model_selection import train_test_split\n",
        "from sklearn.linear_model import LinearRegression"
      ]
    },
    {
      "cell_type": "code",
      "source": [
        "#UPLOADING THE DATA"
      ],
      "metadata": {
        "id": "pj7fQmibrEB9"
      },
      "execution_count": null,
      "outputs": []
    },
    {
      "cell_type": "code",
      "source": [
        "data = pd.read_csv(\"/content/CarPrice_Prediction.csv\")\n",
        "data.head()"
      ],
      "metadata": {
        "colab": {
          "base_uri": "https://localhost:8080/",
          "height": 351
        },
        "id": "1GWqRJvzWUL3",
        "outputId": "8dced8a8-d8c3-41a9-fd71-f6ed73e8095d"
      },
      "execution_count": 4,
      "outputs": [
        {
          "output_type": "execute_result",
          "data": {
            "text/plain": [
              "   car_ID  symboling                   CarName fueltype aspiration doornumber  \\\n",
              "0       1          3        alfa-romero giulia      gas        std        two   \n",
              "1       2          3       alfa-romero stelvio      gas        std        two   \n",
              "2       3          1  alfa-romero Quadrifoglio      gas        std        two   \n",
              "3       4          2               audi 100 ls      gas        std       four   \n",
              "4       5          2                audi 100ls      gas        std       four   \n",
              "\n",
              "       carbody drivewheel enginelocation  wheelbase  ...  enginesize  \\\n",
              "0  convertible        rwd          front       88.6  ...         130   \n",
              "1  convertible        rwd          front       88.6  ...         130   \n",
              "2    hatchback        rwd          front       94.5  ...         152   \n",
              "3        sedan        fwd          front       99.8  ...         109   \n",
              "4        sedan        4wd          front       99.4  ...         136   \n",
              "\n",
              "   fuelsystem  boreratio  stroke compressionratio horsepower  peakrpm citympg  \\\n",
              "0        mpfi       3.47    2.68              9.0        111     5000      21   \n",
              "1        mpfi       3.47    2.68              9.0        111     5000      21   \n",
              "2        mpfi       2.68    3.47              9.0        154     5000      19   \n",
              "3        mpfi       3.19    3.40             10.0        102     5500      24   \n",
              "4        mpfi       3.19    3.40              8.0        115     5500      18   \n",
              "\n",
              "   highwaympg    price  \n",
              "0          27  13495.0  \n",
              "1          27  16500.0  \n",
              "2          26  16500.0  \n",
              "3          30  13950.0  \n",
              "4          22  17450.0  \n",
              "\n",
              "[5 rows x 26 columns]"
            ],
            "text/html": [
              "\n",
              "  <div id=\"df-4a7ff7dc-78bc-4d69-ae4f-16bd0ba8dd63\">\n",
              "    <div class=\"colab-df-container\">\n",
              "      <div>\n",
              "<style scoped>\n",
              "    .dataframe tbody tr th:only-of-type {\n",
              "        vertical-align: middle;\n",
              "    }\n",
              "\n",
              "    .dataframe tbody tr th {\n",
              "        vertical-align: top;\n",
              "    }\n",
              "\n",
              "    .dataframe thead th {\n",
              "        text-align: right;\n",
              "    }\n",
              "</style>\n",
              "<table border=\"1\" class=\"dataframe\">\n",
              "  <thead>\n",
              "    <tr style=\"text-align: right;\">\n",
              "      <th></th>\n",
              "      <th>car_ID</th>\n",
              "      <th>symboling</th>\n",
              "      <th>CarName</th>\n",
              "      <th>fueltype</th>\n",
              "      <th>aspiration</th>\n",
              "      <th>doornumber</th>\n",
              "      <th>carbody</th>\n",
              "      <th>drivewheel</th>\n",
              "      <th>enginelocation</th>\n",
              "      <th>wheelbase</th>\n",
              "      <th>...</th>\n",
              "      <th>enginesize</th>\n",
              "      <th>fuelsystem</th>\n",
              "      <th>boreratio</th>\n",
              "      <th>stroke</th>\n",
              "      <th>compressionratio</th>\n",
              "      <th>horsepower</th>\n",
              "      <th>peakrpm</th>\n",
              "      <th>citympg</th>\n",
              "      <th>highwaympg</th>\n",
              "      <th>price</th>\n",
              "    </tr>\n",
              "  </thead>\n",
              "  <tbody>\n",
              "    <tr>\n",
              "      <th>0</th>\n",
              "      <td>1</td>\n",
              "      <td>3</td>\n",
              "      <td>alfa-romero giulia</td>\n",
              "      <td>gas</td>\n",
              "      <td>std</td>\n",
              "      <td>two</td>\n",
              "      <td>convertible</td>\n",
              "      <td>rwd</td>\n",
              "      <td>front</td>\n",
              "      <td>88.6</td>\n",
              "      <td>...</td>\n",
              "      <td>130</td>\n",
              "      <td>mpfi</td>\n",
              "      <td>3.47</td>\n",
              "      <td>2.68</td>\n",
              "      <td>9.0</td>\n",
              "      <td>111</td>\n",
              "      <td>5000</td>\n",
              "      <td>21</td>\n",
              "      <td>27</td>\n",
              "      <td>13495.0</td>\n",
              "    </tr>\n",
              "    <tr>\n",
              "      <th>1</th>\n",
              "      <td>2</td>\n",
              "      <td>3</td>\n",
              "      <td>alfa-romero stelvio</td>\n",
              "      <td>gas</td>\n",
              "      <td>std</td>\n",
              "      <td>two</td>\n",
              "      <td>convertible</td>\n",
              "      <td>rwd</td>\n",
              "      <td>front</td>\n",
              "      <td>88.6</td>\n",
              "      <td>...</td>\n",
              "      <td>130</td>\n",
              "      <td>mpfi</td>\n",
              "      <td>3.47</td>\n",
              "      <td>2.68</td>\n",
              "      <td>9.0</td>\n",
              "      <td>111</td>\n",
              "      <td>5000</td>\n",
              "      <td>21</td>\n",
              "      <td>27</td>\n",
              "      <td>16500.0</td>\n",
              "    </tr>\n",
              "    <tr>\n",
              "      <th>2</th>\n",
              "      <td>3</td>\n",
              "      <td>1</td>\n",
              "      <td>alfa-romero Quadrifoglio</td>\n",
              "      <td>gas</td>\n",
              "      <td>std</td>\n",
              "      <td>two</td>\n",
              "      <td>hatchback</td>\n",
              "      <td>rwd</td>\n",
              "      <td>front</td>\n",
              "      <td>94.5</td>\n",
              "      <td>...</td>\n",
              "      <td>152</td>\n",
              "      <td>mpfi</td>\n",
              "      <td>2.68</td>\n",
              "      <td>3.47</td>\n",
              "      <td>9.0</td>\n",
              "      <td>154</td>\n",
              "      <td>5000</td>\n",
              "      <td>19</td>\n",
              "      <td>26</td>\n",
              "      <td>16500.0</td>\n",
              "    </tr>\n",
              "    <tr>\n",
              "      <th>3</th>\n",
              "      <td>4</td>\n",
              "      <td>2</td>\n",
              "      <td>audi 100 ls</td>\n",
              "      <td>gas</td>\n",
              "      <td>std</td>\n",
              "      <td>four</td>\n",
              "      <td>sedan</td>\n",
              "      <td>fwd</td>\n",
              "      <td>front</td>\n",
              "      <td>99.8</td>\n",
              "      <td>...</td>\n",
              "      <td>109</td>\n",
              "      <td>mpfi</td>\n",
              "      <td>3.19</td>\n",
              "      <td>3.40</td>\n",
              "      <td>10.0</td>\n",
              "      <td>102</td>\n",
              "      <td>5500</td>\n",
              "      <td>24</td>\n",
              "      <td>30</td>\n",
              "      <td>13950.0</td>\n",
              "    </tr>\n",
              "    <tr>\n",
              "      <th>4</th>\n",
              "      <td>5</td>\n",
              "      <td>2</td>\n",
              "      <td>audi 100ls</td>\n",
              "      <td>gas</td>\n",
              "      <td>std</td>\n",
              "      <td>four</td>\n",
              "      <td>sedan</td>\n",
              "      <td>4wd</td>\n",
              "      <td>front</td>\n",
              "      <td>99.4</td>\n",
              "      <td>...</td>\n",
              "      <td>136</td>\n",
              "      <td>mpfi</td>\n",
              "      <td>3.19</td>\n",
              "      <td>3.40</td>\n",
              "      <td>8.0</td>\n",
              "      <td>115</td>\n",
              "      <td>5500</td>\n",
              "      <td>18</td>\n",
              "      <td>22</td>\n",
              "      <td>17450.0</td>\n",
              "    </tr>\n",
              "  </tbody>\n",
              "</table>\n",
              "<p>5 rows × 26 columns</p>\n",
              "</div>\n",
              "      <button class=\"colab-df-convert\" onclick=\"convertToInteractive('df-4a7ff7dc-78bc-4d69-ae4f-16bd0ba8dd63')\"\n",
              "              title=\"Convert this dataframe to an interactive table.\"\n",
              "              style=\"display:none;\">\n",
              "        \n",
              "  <svg xmlns=\"http://www.w3.org/2000/svg\" height=\"24px\"viewBox=\"0 0 24 24\"\n",
              "       width=\"24px\">\n",
              "    <path d=\"M0 0h24v24H0V0z\" fill=\"none\"/>\n",
              "    <path d=\"M18.56 5.44l.94 2.06.94-2.06 2.06-.94-2.06-.94-.94-2.06-.94 2.06-2.06.94zm-11 1L8.5 8.5l.94-2.06 2.06-.94-2.06-.94L8.5 2.5l-.94 2.06-2.06.94zm10 10l.94 2.06.94-2.06 2.06-.94-2.06-.94-.94-2.06-.94 2.06-2.06.94z\"/><path d=\"M17.41 7.96l-1.37-1.37c-.4-.4-.92-.59-1.43-.59-.52 0-1.04.2-1.43.59L10.3 9.45l-7.72 7.72c-.78.78-.78 2.05 0 2.83L4 21.41c.39.39.9.59 1.41.59.51 0 1.02-.2 1.41-.59l7.78-7.78 2.81-2.81c.8-.78.8-2.07 0-2.86zM5.41 20L4 18.59l7.72-7.72 1.47 1.35L5.41 20z\"/>\n",
              "  </svg>\n",
              "      </button>\n",
              "      \n",
              "  <style>\n",
              "    .colab-df-container {\n",
              "      display:flex;\n",
              "      flex-wrap:wrap;\n",
              "      gap: 12px;\n",
              "    }\n",
              "\n",
              "    .colab-df-convert {\n",
              "      background-color: #E8F0FE;\n",
              "      border: none;\n",
              "      border-radius: 50%;\n",
              "      cursor: pointer;\n",
              "      display: none;\n",
              "      fill: #1967D2;\n",
              "      height: 32px;\n",
              "      padding: 0 0 0 0;\n",
              "      width: 32px;\n",
              "    }\n",
              "\n",
              "    .colab-df-convert:hover {\n",
              "      background-color: #E2EBFA;\n",
              "      box-shadow: 0px 1px 2px rgba(60, 64, 67, 0.3), 0px 1px 3px 1px rgba(60, 64, 67, 0.15);\n",
              "      fill: #174EA6;\n",
              "    }\n",
              "\n",
              "    [theme=dark] .colab-df-convert {\n",
              "      background-color: #3B4455;\n",
              "      fill: #D2E3FC;\n",
              "    }\n",
              "\n",
              "    [theme=dark] .colab-df-convert:hover {\n",
              "      background-color: #434B5C;\n",
              "      box-shadow: 0px 1px 3px 1px rgba(0, 0, 0, 0.15);\n",
              "      filter: drop-shadow(0px 1px 2px rgba(0, 0, 0, 0.3));\n",
              "      fill: #FFFFFF;\n",
              "    }\n",
              "  </style>\n",
              "\n",
              "      <script>\n",
              "        const buttonEl =\n",
              "          document.querySelector('#df-4a7ff7dc-78bc-4d69-ae4f-16bd0ba8dd63 button.colab-df-convert');\n",
              "        buttonEl.style.display =\n",
              "          google.colab.kernel.accessAllowed ? 'block' : 'none';\n",
              "\n",
              "        async function convertToInteractive(key) {\n",
              "          const element = document.querySelector('#df-4a7ff7dc-78bc-4d69-ae4f-16bd0ba8dd63');\n",
              "          const dataTable =\n",
              "            await google.colab.kernel.invokeFunction('convertToInteractive',\n",
              "                                                     [key], {});\n",
              "          if (!dataTable) return;\n",
              "\n",
              "          const docLinkHtml = 'Like what you see? Visit the ' +\n",
              "            '<a target=\"_blank\" href=https://colab.research.google.com/notebooks/data_table.ipynb>data table notebook</a>'\n",
              "            + ' to learn more about interactive tables.';\n",
              "          element.innerHTML = '';\n",
              "          dataTable['output_type'] = 'display_data';\n",
              "          await google.colab.output.renderOutput(dataTable, element);\n",
              "          const docLink = document.createElement('div');\n",
              "          docLink.innerHTML = docLinkHtml;\n",
              "          element.appendChild(docLink);\n",
              "        }\n",
              "      </script>\n",
              "    </div>\n",
              "  </div>\n",
              "  "
            ]
          },
          "metadata": {},
          "execution_count": 4
        }
      ]
    },
    {
      "cell_type": "code",
      "source": [
        "# PERFORMING EDA"
      ],
      "metadata": {
        "id": "5zfz8He_rSiV"
      },
      "execution_count": 54,
      "outputs": []
    },
    {
      "cell_type": "code",
      "source": [
        "data.columns"
      ],
      "metadata": {
        "colab": {
          "base_uri": "https://localhost:8080/"
        },
        "id": "378QhHw3E4lg",
        "outputId": "c95297ac-9807-4c0b-eba1-068eb98ee474"
      },
      "execution_count": 5,
      "outputs": [
        {
          "output_type": "execute_result",
          "data": {
            "text/plain": [
              "Index(['car_ID', 'symboling', 'CarName', 'fueltype', 'aspiration',\n",
              "       'doornumber', 'carbody', 'drivewheel', 'enginelocation', 'wheelbase',\n",
              "       'carlength', 'carwidth', 'carheight', 'curbweight', 'enginetype',\n",
              "       'cylindernumber', 'enginesize', 'fuelsystem', 'boreratio', 'stroke',\n",
              "       'compressionratio', 'horsepower', 'peakrpm', 'citympg', 'highwaympg',\n",
              "       'price'],\n",
              "      dtype='object')"
            ]
          },
          "metadata": {},
          "execution_count": 5
        }
      ]
    },
    {
      "cell_type": "code",
      "source": [
        "data.isnull()"
      ],
      "metadata": {
        "colab": {
          "base_uri": "https://localhost:8080/",
          "height": 487
        },
        "id": "btMI3qxG8-D0",
        "outputId": "4e934d4f-1a01-4dd3-c618-8c5763d8773a"
      },
      "execution_count": 6,
      "outputs": [
        {
          "output_type": "execute_result",
          "data": {
            "text/plain": [
              "     car_ID  symboling  CarName  fueltype  aspiration  doornumber  carbody  \\\n",
              "0     False      False    False     False       False       False    False   \n",
              "1     False      False    False     False       False       False    False   \n",
              "2     False      False    False     False       False       False    False   \n",
              "3     False      False    False     False       False       False    False   \n",
              "4     False      False    False     False       False       False    False   \n",
              "..      ...        ...      ...       ...         ...         ...      ...   \n",
              "200   False      False    False     False       False       False    False   \n",
              "201   False      False    False     False       False       False    False   \n",
              "202   False      False    False     False       False       False    False   \n",
              "203   False      False    False     False       False       False    False   \n",
              "204   False      False    False     False       False       False    False   \n",
              "\n",
              "     drivewheel  enginelocation  wheelbase  ...  enginesize  fuelsystem  \\\n",
              "0         False           False      False  ...       False       False   \n",
              "1         False           False      False  ...       False       False   \n",
              "2         False           False      False  ...       False       False   \n",
              "3         False           False      False  ...       False       False   \n",
              "4         False           False      False  ...       False       False   \n",
              "..          ...             ...        ...  ...         ...         ...   \n",
              "200       False           False      False  ...       False       False   \n",
              "201       False           False      False  ...       False       False   \n",
              "202       False           False      False  ...       False       False   \n",
              "203       False           False      False  ...       False       False   \n",
              "204       False           False      False  ...       False       False   \n",
              "\n",
              "     boreratio  stroke  compressionratio  horsepower  peakrpm  citympg  \\\n",
              "0        False   False             False       False    False    False   \n",
              "1        False   False             False       False    False    False   \n",
              "2        False   False             False       False    False    False   \n",
              "3        False   False             False       False    False    False   \n",
              "4        False   False             False       False    False    False   \n",
              "..         ...     ...               ...         ...      ...      ...   \n",
              "200      False   False             False       False    False    False   \n",
              "201      False   False             False       False    False    False   \n",
              "202      False   False             False       False    False    False   \n",
              "203      False   False             False       False    False    False   \n",
              "204      False   False             False       False    False    False   \n",
              "\n",
              "     highwaympg  price  \n",
              "0         False  False  \n",
              "1         False  False  \n",
              "2         False  False  \n",
              "3         False  False  \n",
              "4         False  False  \n",
              "..          ...    ...  \n",
              "200       False  False  \n",
              "201       False  False  \n",
              "202       False  False  \n",
              "203       False  False  \n",
              "204       False  False  \n",
              "\n",
              "[205 rows x 26 columns]"
            ],
            "text/html": [
              "\n",
              "  <div id=\"df-4f6a7ec7-4b9c-4c5a-bfe5-8dc992d0237d\">\n",
              "    <div class=\"colab-df-container\">\n",
              "      <div>\n",
              "<style scoped>\n",
              "    .dataframe tbody tr th:only-of-type {\n",
              "        vertical-align: middle;\n",
              "    }\n",
              "\n",
              "    .dataframe tbody tr th {\n",
              "        vertical-align: top;\n",
              "    }\n",
              "\n",
              "    .dataframe thead th {\n",
              "        text-align: right;\n",
              "    }\n",
              "</style>\n",
              "<table border=\"1\" class=\"dataframe\">\n",
              "  <thead>\n",
              "    <tr style=\"text-align: right;\">\n",
              "      <th></th>\n",
              "      <th>car_ID</th>\n",
              "      <th>symboling</th>\n",
              "      <th>CarName</th>\n",
              "      <th>fueltype</th>\n",
              "      <th>aspiration</th>\n",
              "      <th>doornumber</th>\n",
              "      <th>carbody</th>\n",
              "      <th>drivewheel</th>\n",
              "      <th>enginelocation</th>\n",
              "      <th>wheelbase</th>\n",
              "      <th>...</th>\n",
              "      <th>enginesize</th>\n",
              "      <th>fuelsystem</th>\n",
              "      <th>boreratio</th>\n",
              "      <th>stroke</th>\n",
              "      <th>compressionratio</th>\n",
              "      <th>horsepower</th>\n",
              "      <th>peakrpm</th>\n",
              "      <th>citympg</th>\n",
              "      <th>highwaympg</th>\n",
              "      <th>price</th>\n",
              "    </tr>\n",
              "  </thead>\n",
              "  <tbody>\n",
              "    <tr>\n",
              "      <th>0</th>\n",
              "      <td>False</td>\n",
              "      <td>False</td>\n",
              "      <td>False</td>\n",
              "      <td>False</td>\n",
              "      <td>False</td>\n",
              "      <td>False</td>\n",
              "      <td>False</td>\n",
              "      <td>False</td>\n",
              "      <td>False</td>\n",
              "      <td>False</td>\n",
              "      <td>...</td>\n",
              "      <td>False</td>\n",
              "      <td>False</td>\n",
              "      <td>False</td>\n",
              "      <td>False</td>\n",
              "      <td>False</td>\n",
              "      <td>False</td>\n",
              "      <td>False</td>\n",
              "      <td>False</td>\n",
              "      <td>False</td>\n",
              "      <td>False</td>\n",
              "    </tr>\n",
              "    <tr>\n",
              "      <th>1</th>\n",
              "      <td>False</td>\n",
              "      <td>False</td>\n",
              "      <td>False</td>\n",
              "      <td>False</td>\n",
              "      <td>False</td>\n",
              "      <td>False</td>\n",
              "      <td>False</td>\n",
              "      <td>False</td>\n",
              "      <td>False</td>\n",
              "      <td>False</td>\n",
              "      <td>...</td>\n",
              "      <td>False</td>\n",
              "      <td>False</td>\n",
              "      <td>False</td>\n",
              "      <td>False</td>\n",
              "      <td>False</td>\n",
              "      <td>False</td>\n",
              "      <td>False</td>\n",
              "      <td>False</td>\n",
              "      <td>False</td>\n",
              "      <td>False</td>\n",
              "    </tr>\n",
              "    <tr>\n",
              "      <th>2</th>\n",
              "      <td>False</td>\n",
              "      <td>False</td>\n",
              "      <td>False</td>\n",
              "      <td>False</td>\n",
              "      <td>False</td>\n",
              "      <td>False</td>\n",
              "      <td>False</td>\n",
              "      <td>False</td>\n",
              "      <td>False</td>\n",
              "      <td>False</td>\n",
              "      <td>...</td>\n",
              "      <td>False</td>\n",
              "      <td>False</td>\n",
              "      <td>False</td>\n",
              "      <td>False</td>\n",
              "      <td>False</td>\n",
              "      <td>False</td>\n",
              "      <td>False</td>\n",
              "      <td>False</td>\n",
              "      <td>False</td>\n",
              "      <td>False</td>\n",
              "    </tr>\n",
              "    <tr>\n",
              "      <th>3</th>\n",
              "      <td>False</td>\n",
              "      <td>False</td>\n",
              "      <td>False</td>\n",
              "      <td>False</td>\n",
              "      <td>False</td>\n",
              "      <td>False</td>\n",
              "      <td>False</td>\n",
              "      <td>False</td>\n",
              "      <td>False</td>\n",
              "      <td>False</td>\n",
              "      <td>...</td>\n",
              "      <td>False</td>\n",
              "      <td>False</td>\n",
              "      <td>False</td>\n",
              "      <td>False</td>\n",
              "      <td>False</td>\n",
              "      <td>False</td>\n",
              "      <td>False</td>\n",
              "      <td>False</td>\n",
              "      <td>False</td>\n",
              "      <td>False</td>\n",
              "    </tr>\n",
              "    <tr>\n",
              "      <th>4</th>\n",
              "      <td>False</td>\n",
              "      <td>False</td>\n",
              "      <td>False</td>\n",
              "      <td>False</td>\n",
              "      <td>False</td>\n",
              "      <td>False</td>\n",
              "      <td>False</td>\n",
              "      <td>False</td>\n",
              "      <td>False</td>\n",
              "      <td>False</td>\n",
              "      <td>...</td>\n",
              "      <td>False</td>\n",
              "      <td>False</td>\n",
              "      <td>False</td>\n",
              "      <td>False</td>\n",
              "      <td>False</td>\n",
              "      <td>False</td>\n",
              "      <td>False</td>\n",
              "      <td>False</td>\n",
              "      <td>False</td>\n",
              "      <td>False</td>\n",
              "    </tr>\n",
              "    <tr>\n",
              "      <th>...</th>\n",
              "      <td>...</td>\n",
              "      <td>...</td>\n",
              "      <td>...</td>\n",
              "      <td>...</td>\n",
              "      <td>...</td>\n",
              "      <td>...</td>\n",
              "      <td>...</td>\n",
              "      <td>...</td>\n",
              "      <td>...</td>\n",
              "      <td>...</td>\n",
              "      <td>...</td>\n",
              "      <td>...</td>\n",
              "      <td>...</td>\n",
              "      <td>...</td>\n",
              "      <td>...</td>\n",
              "      <td>...</td>\n",
              "      <td>...</td>\n",
              "      <td>...</td>\n",
              "      <td>...</td>\n",
              "      <td>...</td>\n",
              "      <td>...</td>\n",
              "    </tr>\n",
              "    <tr>\n",
              "      <th>200</th>\n",
              "      <td>False</td>\n",
              "      <td>False</td>\n",
              "      <td>False</td>\n",
              "      <td>False</td>\n",
              "      <td>False</td>\n",
              "      <td>False</td>\n",
              "      <td>False</td>\n",
              "      <td>False</td>\n",
              "      <td>False</td>\n",
              "      <td>False</td>\n",
              "      <td>...</td>\n",
              "      <td>False</td>\n",
              "      <td>False</td>\n",
              "      <td>False</td>\n",
              "      <td>False</td>\n",
              "      <td>False</td>\n",
              "      <td>False</td>\n",
              "      <td>False</td>\n",
              "      <td>False</td>\n",
              "      <td>False</td>\n",
              "      <td>False</td>\n",
              "    </tr>\n",
              "    <tr>\n",
              "      <th>201</th>\n",
              "      <td>False</td>\n",
              "      <td>False</td>\n",
              "      <td>False</td>\n",
              "      <td>False</td>\n",
              "      <td>False</td>\n",
              "      <td>False</td>\n",
              "      <td>False</td>\n",
              "      <td>False</td>\n",
              "      <td>False</td>\n",
              "      <td>False</td>\n",
              "      <td>...</td>\n",
              "      <td>False</td>\n",
              "      <td>False</td>\n",
              "      <td>False</td>\n",
              "      <td>False</td>\n",
              "      <td>False</td>\n",
              "      <td>False</td>\n",
              "      <td>False</td>\n",
              "      <td>False</td>\n",
              "      <td>False</td>\n",
              "      <td>False</td>\n",
              "    </tr>\n",
              "    <tr>\n",
              "      <th>202</th>\n",
              "      <td>False</td>\n",
              "      <td>False</td>\n",
              "      <td>False</td>\n",
              "      <td>False</td>\n",
              "      <td>False</td>\n",
              "      <td>False</td>\n",
              "      <td>False</td>\n",
              "      <td>False</td>\n",
              "      <td>False</td>\n",
              "      <td>False</td>\n",
              "      <td>...</td>\n",
              "      <td>False</td>\n",
              "      <td>False</td>\n",
              "      <td>False</td>\n",
              "      <td>False</td>\n",
              "      <td>False</td>\n",
              "      <td>False</td>\n",
              "      <td>False</td>\n",
              "      <td>False</td>\n",
              "      <td>False</td>\n",
              "      <td>False</td>\n",
              "    </tr>\n",
              "    <tr>\n",
              "      <th>203</th>\n",
              "      <td>False</td>\n",
              "      <td>False</td>\n",
              "      <td>False</td>\n",
              "      <td>False</td>\n",
              "      <td>False</td>\n",
              "      <td>False</td>\n",
              "      <td>False</td>\n",
              "      <td>False</td>\n",
              "      <td>False</td>\n",
              "      <td>False</td>\n",
              "      <td>...</td>\n",
              "      <td>False</td>\n",
              "      <td>False</td>\n",
              "      <td>False</td>\n",
              "      <td>False</td>\n",
              "      <td>False</td>\n",
              "      <td>False</td>\n",
              "      <td>False</td>\n",
              "      <td>False</td>\n",
              "      <td>False</td>\n",
              "      <td>False</td>\n",
              "    </tr>\n",
              "    <tr>\n",
              "      <th>204</th>\n",
              "      <td>False</td>\n",
              "      <td>False</td>\n",
              "      <td>False</td>\n",
              "      <td>False</td>\n",
              "      <td>False</td>\n",
              "      <td>False</td>\n",
              "      <td>False</td>\n",
              "      <td>False</td>\n",
              "      <td>False</td>\n",
              "      <td>False</td>\n",
              "      <td>...</td>\n",
              "      <td>False</td>\n",
              "      <td>False</td>\n",
              "      <td>False</td>\n",
              "      <td>False</td>\n",
              "      <td>False</td>\n",
              "      <td>False</td>\n",
              "      <td>False</td>\n",
              "      <td>False</td>\n",
              "      <td>False</td>\n",
              "      <td>False</td>\n",
              "    </tr>\n",
              "  </tbody>\n",
              "</table>\n",
              "<p>205 rows × 26 columns</p>\n",
              "</div>\n",
              "      <button class=\"colab-df-convert\" onclick=\"convertToInteractive('df-4f6a7ec7-4b9c-4c5a-bfe5-8dc992d0237d')\"\n",
              "              title=\"Convert this dataframe to an interactive table.\"\n",
              "              style=\"display:none;\">\n",
              "        \n",
              "  <svg xmlns=\"http://www.w3.org/2000/svg\" height=\"24px\"viewBox=\"0 0 24 24\"\n",
              "       width=\"24px\">\n",
              "    <path d=\"M0 0h24v24H0V0z\" fill=\"none\"/>\n",
              "    <path d=\"M18.56 5.44l.94 2.06.94-2.06 2.06-.94-2.06-.94-.94-2.06-.94 2.06-2.06.94zm-11 1L8.5 8.5l.94-2.06 2.06-.94-2.06-.94L8.5 2.5l-.94 2.06-2.06.94zm10 10l.94 2.06.94-2.06 2.06-.94-2.06-.94-.94-2.06-.94 2.06-2.06.94z\"/><path d=\"M17.41 7.96l-1.37-1.37c-.4-.4-.92-.59-1.43-.59-.52 0-1.04.2-1.43.59L10.3 9.45l-7.72 7.72c-.78.78-.78 2.05 0 2.83L4 21.41c.39.39.9.59 1.41.59.51 0 1.02-.2 1.41-.59l7.78-7.78 2.81-2.81c.8-.78.8-2.07 0-2.86zM5.41 20L4 18.59l7.72-7.72 1.47 1.35L5.41 20z\"/>\n",
              "  </svg>\n",
              "      </button>\n",
              "      \n",
              "  <style>\n",
              "    .colab-df-container {\n",
              "      display:flex;\n",
              "      flex-wrap:wrap;\n",
              "      gap: 12px;\n",
              "    }\n",
              "\n",
              "    .colab-df-convert {\n",
              "      background-color: #E8F0FE;\n",
              "      border: none;\n",
              "      border-radius: 50%;\n",
              "      cursor: pointer;\n",
              "      display: none;\n",
              "      fill: #1967D2;\n",
              "      height: 32px;\n",
              "      padding: 0 0 0 0;\n",
              "      width: 32px;\n",
              "    }\n",
              "\n",
              "    .colab-df-convert:hover {\n",
              "      background-color: #E2EBFA;\n",
              "      box-shadow: 0px 1px 2px rgba(60, 64, 67, 0.3), 0px 1px 3px 1px rgba(60, 64, 67, 0.15);\n",
              "      fill: #174EA6;\n",
              "    }\n",
              "\n",
              "    [theme=dark] .colab-df-convert {\n",
              "      background-color: #3B4455;\n",
              "      fill: #D2E3FC;\n",
              "    }\n",
              "\n",
              "    [theme=dark] .colab-df-convert:hover {\n",
              "      background-color: #434B5C;\n",
              "      box-shadow: 0px 1px 3px 1px rgba(0, 0, 0, 0.15);\n",
              "      filter: drop-shadow(0px 1px 2px rgba(0, 0, 0, 0.3));\n",
              "      fill: #FFFFFF;\n",
              "    }\n",
              "  </style>\n",
              "\n",
              "      <script>\n",
              "        const buttonEl =\n",
              "          document.querySelector('#df-4f6a7ec7-4b9c-4c5a-bfe5-8dc992d0237d button.colab-df-convert');\n",
              "        buttonEl.style.display =\n",
              "          google.colab.kernel.accessAllowed ? 'block' : 'none';\n",
              "\n",
              "        async function convertToInteractive(key) {\n",
              "          const element = document.querySelector('#df-4f6a7ec7-4b9c-4c5a-bfe5-8dc992d0237d');\n",
              "          const dataTable =\n",
              "            await google.colab.kernel.invokeFunction('convertToInteractive',\n",
              "                                                     [key], {});\n",
              "          if (!dataTable) return;\n",
              "\n",
              "          const docLinkHtml = 'Like what you see? Visit the ' +\n",
              "            '<a target=\"_blank\" href=https://colab.research.google.com/notebooks/data_table.ipynb>data table notebook</a>'\n",
              "            + ' to learn more about interactive tables.';\n",
              "          element.innerHTML = '';\n",
              "          dataTable['output_type'] = 'display_data';\n",
              "          await google.colab.output.renderOutput(dataTable, element);\n",
              "          const docLink = document.createElement('div');\n",
              "          docLink.innerHTML = docLinkHtml;\n",
              "          element.appendChild(docLink);\n",
              "        }\n",
              "      </script>\n",
              "    </div>\n",
              "  </div>\n",
              "  "
            ]
          },
          "metadata": {},
          "execution_count": 6
        }
      ]
    },
    {
      "cell_type": "code",
      "source": [
        "data.describe()"
      ],
      "metadata": {
        "colab": {
          "base_uri": "https://localhost:8080/",
          "height": 364
        },
        "id": "k7e5zyFT4gEi",
        "outputId": "0b8e94a4-c65d-48bf-f1a9-fd93d04f43a3"
      },
      "execution_count": 7,
      "outputs": [
        {
          "output_type": "execute_result",
          "data": {
            "text/plain": [
              "           car_ID   symboling   wheelbase   carlength    carwidth   carheight  \\\n",
              "count  205.000000  205.000000  205.000000  205.000000  205.000000  205.000000   \n",
              "mean   103.000000    0.834146   98.756585  174.049268   65.907805   53.724878   \n",
              "std     59.322565    1.245307    6.021776   12.337289    2.145204    2.443522   \n",
              "min      1.000000   -2.000000   86.600000  141.100000   60.300000   47.800000   \n",
              "25%     52.000000    0.000000   94.500000  166.300000   64.100000   52.000000   \n",
              "50%    103.000000    1.000000   97.000000  173.200000   65.500000   54.100000   \n",
              "75%    154.000000    2.000000  102.400000  183.100000   66.900000   55.500000   \n",
              "max    205.000000    3.000000  120.900000  208.100000   72.300000   59.800000   \n",
              "\n",
              "        curbweight  enginesize   boreratio      stroke  compressionratio  \\\n",
              "count   205.000000  205.000000  205.000000  205.000000        205.000000   \n",
              "mean   2555.565854  126.907317    3.329756    3.255415         10.142537   \n",
              "std     520.680204   41.642693    0.270844    0.313597          3.972040   \n",
              "min    1488.000000   61.000000    2.540000    2.070000          7.000000   \n",
              "25%    2145.000000   97.000000    3.150000    3.110000          8.600000   \n",
              "50%    2414.000000  120.000000    3.310000    3.290000          9.000000   \n",
              "75%    2935.000000  141.000000    3.580000    3.410000          9.400000   \n",
              "max    4066.000000  326.000000    3.940000    4.170000         23.000000   \n",
              "\n",
              "       horsepower      peakrpm     citympg  highwaympg         price  \n",
              "count  205.000000   205.000000  205.000000  205.000000    205.000000  \n",
              "mean   104.117073  5125.121951   25.219512   30.751220  13276.710571  \n",
              "std     39.544167   476.985643    6.542142    6.886443   7988.852332  \n",
              "min     48.000000  4150.000000   13.000000   16.000000   5118.000000  \n",
              "25%     70.000000  4800.000000   19.000000   25.000000   7788.000000  \n",
              "50%     95.000000  5200.000000   24.000000   30.000000  10295.000000  \n",
              "75%    116.000000  5500.000000   30.000000   34.000000  16503.000000  \n",
              "max    288.000000  6600.000000   49.000000   54.000000  45400.000000  "
            ],
            "text/html": [
              "\n",
              "  <div id=\"df-d3713d86-bc79-46d2-994e-bce0be6dfcbf\">\n",
              "    <div class=\"colab-df-container\">\n",
              "      <div>\n",
              "<style scoped>\n",
              "    .dataframe tbody tr th:only-of-type {\n",
              "        vertical-align: middle;\n",
              "    }\n",
              "\n",
              "    .dataframe tbody tr th {\n",
              "        vertical-align: top;\n",
              "    }\n",
              "\n",
              "    .dataframe thead th {\n",
              "        text-align: right;\n",
              "    }\n",
              "</style>\n",
              "<table border=\"1\" class=\"dataframe\">\n",
              "  <thead>\n",
              "    <tr style=\"text-align: right;\">\n",
              "      <th></th>\n",
              "      <th>car_ID</th>\n",
              "      <th>symboling</th>\n",
              "      <th>wheelbase</th>\n",
              "      <th>carlength</th>\n",
              "      <th>carwidth</th>\n",
              "      <th>carheight</th>\n",
              "      <th>curbweight</th>\n",
              "      <th>enginesize</th>\n",
              "      <th>boreratio</th>\n",
              "      <th>stroke</th>\n",
              "      <th>compressionratio</th>\n",
              "      <th>horsepower</th>\n",
              "      <th>peakrpm</th>\n",
              "      <th>citympg</th>\n",
              "      <th>highwaympg</th>\n",
              "      <th>price</th>\n",
              "    </tr>\n",
              "  </thead>\n",
              "  <tbody>\n",
              "    <tr>\n",
              "      <th>count</th>\n",
              "      <td>205.000000</td>\n",
              "      <td>205.000000</td>\n",
              "      <td>205.000000</td>\n",
              "      <td>205.000000</td>\n",
              "      <td>205.000000</td>\n",
              "      <td>205.000000</td>\n",
              "      <td>205.000000</td>\n",
              "      <td>205.000000</td>\n",
              "      <td>205.000000</td>\n",
              "      <td>205.000000</td>\n",
              "      <td>205.000000</td>\n",
              "      <td>205.000000</td>\n",
              "      <td>205.000000</td>\n",
              "      <td>205.000000</td>\n",
              "      <td>205.000000</td>\n",
              "      <td>205.000000</td>\n",
              "    </tr>\n",
              "    <tr>\n",
              "      <th>mean</th>\n",
              "      <td>103.000000</td>\n",
              "      <td>0.834146</td>\n",
              "      <td>98.756585</td>\n",
              "      <td>174.049268</td>\n",
              "      <td>65.907805</td>\n",
              "      <td>53.724878</td>\n",
              "      <td>2555.565854</td>\n",
              "      <td>126.907317</td>\n",
              "      <td>3.329756</td>\n",
              "      <td>3.255415</td>\n",
              "      <td>10.142537</td>\n",
              "      <td>104.117073</td>\n",
              "      <td>5125.121951</td>\n",
              "      <td>25.219512</td>\n",
              "      <td>30.751220</td>\n",
              "      <td>13276.710571</td>\n",
              "    </tr>\n",
              "    <tr>\n",
              "      <th>std</th>\n",
              "      <td>59.322565</td>\n",
              "      <td>1.245307</td>\n",
              "      <td>6.021776</td>\n",
              "      <td>12.337289</td>\n",
              "      <td>2.145204</td>\n",
              "      <td>2.443522</td>\n",
              "      <td>520.680204</td>\n",
              "      <td>41.642693</td>\n",
              "      <td>0.270844</td>\n",
              "      <td>0.313597</td>\n",
              "      <td>3.972040</td>\n",
              "      <td>39.544167</td>\n",
              "      <td>476.985643</td>\n",
              "      <td>6.542142</td>\n",
              "      <td>6.886443</td>\n",
              "      <td>7988.852332</td>\n",
              "    </tr>\n",
              "    <tr>\n",
              "      <th>min</th>\n",
              "      <td>1.000000</td>\n",
              "      <td>-2.000000</td>\n",
              "      <td>86.600000</td>\n",
              "      <td>141.100000</td>\n",
              "      <td>60.300000</td>\n",
              "      <td>47.800000</td>\n",
              "      <td>1488.000000</td>\n",
              "      <td>61.000000</td>\n",
              "      <td>2.540000</td>\n",
              "      <td>2.070000</td>\n",
              "      <td>7.000000</td>\n",
              "      <td>48.000000</td>\n",
              "      <td>4150.000000</td>\n",
              "      <td>13.000000</td>\n",
              "      <td>16.000000</td>\n",
              "      <td>5118.000000</td>\n",
              "    </tr>\n",
              "    <tr>\n",
              "      <th>25%</th>\n",
              "      <td>52.000000</td>\n",
              "      <td>0.000000</td>\n",
              "      <td>94.500000</td>\n",
              "      <td>166.300000</td>\n",
              "      <td>64.100000</td>\n",
              "      <td>52.000000</td>\n",
              "      <td>2145.000000</td>\n",
              "      <td>97.000000</td>\n",
              "      <td>3.150000</td>\n",
              "      <td>3.110000</td>\n",
              "      <td>8.600000</td>\n",
              "      <td>70.000000</td>\n",
              "      <td>4800.000000</td>\n",
              "      <td>19.000000</td>\n",
              "      <td>25.000000</td>\n",
              "      <td>7788.000000</td>\n",
              "    </tr>\n",
              "    <tr>\n",
              "      <th>50%</th>\n",
              "      <td>103.000000</td>\n",
              "      <td>1.000000</td>\n",
              "      <td>97.000000</td>\n",
              "      <td>173.200000</td>\n",
              "      <td>65.500000</td>\n",
              "      <td>54.100000</td>\n",
              "      <td>2414.000000</td>\n",
              "      <td>120.000000</td>\n",
              "      <td>3.310000</td>\n",
              "      <td>3.290000</td>\n",
              "      <td>9.000000</td>\n",
              "      <td>95.000000</td>\n",
              "      <td>5200.000000</td>\n",
              "      <td>24.000000</td>\n",
              "      <td>30.000000</td>\n",
              "      <td>10295.000000</td>\n",
              "    </tr>\n",
              "    <tr>\n",
              "      <th>75%</th>\n",
              "      <td>154.000000</td>\n",
              "      <td>2.000000</td>\n",
              "      <td>102.400000</td>\n",
              "      <td>183.100000</td>\n",
              "      <td>66.900000</td>\n",
              "      <td>55.500000</td>\n",
              "      <td>2935.000000</td>\n",
              "      <td>141.000000</td>\n",
              "      <td>3.580000</td>\n",
              "      <td>3.410000</td>\n",
              "      <td>9.400000</td>\n",
              "      <td>116.000000</td>\n",
              "      <td>5500.000000</td>\n",
              "      <td>30.000000</td>\n",
              "      <td>34.000000</td>\n",
              "      <td>16503.000000</td>\n",
              "    </tr>\n",
              "    <tr>\n",
              "      <th>max</th>\n",
              "      <td>205.000000</td>\n",
              "      <td>3.000000</td>\n",
              "      <td>120.900000</td>\n",
              "      <td>208.100000</td>\n",
              "      <td>72.300000</td>\n",
              "      <td>59.800000</td>\n",
              "      <td>4066.000000</td>\n",
              "      <td>326.000000</td>\n",
              "      <td>3.940000</td>\n",
              "      <td>4.170000</td>\n",
              "      <td>23.000000</td>\n",
              "      <td>288.000000</td>\n",
              "      <td>6600.000000</td>\n",
              "      <td>49.000000</td>\n",
              "      <td>54.000000</td>\n",
              "      <td>45400.000000</td>\n",
              "    </tr>\n",
              "  </tbody>\n",
              "</table>\n",
              "</div>\n",
              "      <button class=\"colab-df-convert\" onclick=\"convertToInteractive('df-d3713d86-bc79-46d2-994e-bce0be6dfcbf')\"\n",
              "              title=\"Convert this dataframe to an interactive table.\"\n",
              "              style=\"display:none;\">\n",
              "        \n",
              "  <svg xmlns=\"http://www.w3.org/2000/svg\" height=\"24px\"viewBox=\"0 0 24 24\"\n",
              "       width=\"24px\">\n",
              "    <path d=\"M0 0h24v24H0V0z\" fill=\"none\"/>\n",
              "    <path d=\"M18.56 5.44l.94 2.06.94-2.06 2.06-.94-2.06-.94-.94-2.06-.94 2.06-2.06.94zm-11 1L8.5 8.5l.94-2.06 2.06-.94-2.06-.94L8.5 2.5l-.94 2.06-2.06.94zm10 10l.94 2.06.94-2.06 2.06-.94-2.06-.94-.94-2.06-.94 2.06-2.06.94z\"/><path d=\"M17.41 7.96l-1.37-1.37c-.4-.4-.92-.59-1.43-.59-.52 0-1.04.2-1.43.59L10.3 9.45l-7.72 7.72c-.78.78-.78 2.05 0 2.83L4 21.41c.39.39.9.59 1.41.59.51 0 1.02-.2 1.41-.59l7.78-7.78 2.81-2.81c.8-.78.8-2.07 0-2.86zM5.41 20L4 18.59l7.72-7.72 1.47 1.35L5.41 20z\"/>\n",
              "  </svg>\n",
              "      </button>\n",
              "      \n",
              "  <style>\n",
              "    .colab-df-container {\n",
              "      display:flex;\n",
              "      flex-wrap:wrap;\n",
              "      gap: 12px;\n",
              "    }\n",
              "\n",
              "    .colab-df-convert {\n",
              "      background-color: #E8F0FE;\n",
              "      border: none;\n",
              "      border-radius: 50%;\n",
              "      cursor: pointer;\n",
              "      display: none;\n",
              "      fill: #1967D2;\n",
              "      height: 32px;\n",
              "      padding: 0 0 0 0;\n",
              "      width: 32px;\n",
              "    }\n",
              "\n",
              "    .colab-df-convert:hover {\n",
              "      background-color: #E2EBFA;\n",
              "      box-shadow: 0px 1px 2px rgba(60, 64, 67, 0.3), 0px 1px 3px 1px rgba(60, 64, 67, 0.15);\n",
              "      fill: #174EA6;\n",
              "    }\n",
              "\n",
              "    [theme=dark] .colab-df-convert {\n",
              "      background-color: #3B4455;\n",
              "      fill: #D2E3FC;\n",
              "    }\n",
              "\n",
              "    [theme=dark] .colab-df-convert:hover {\n",
              "      background-color: #434B5C;\n",
              "      box-shadow: 0px 1px 3px 1px rgba(0, 0, 0, 0.15);\n",
              "      filter: drop-shadow(0px 1px 2px rgba(0, 0, 0, 0.3));\n",
              "      fill: #FFFFFF;\n",
              "    }\n",
              "  </style>\n",
              "\n",
              "      <script>\n",
              "        const buttonEl =\n",
              "          document.querySelector('#df-d3713d86-bc79-46d2-994e-bce0be6dfcbf button.colab-df-convert');\n",
              "        buttonEl.style.display =\n",
              "          google.colab.kernel.accessAllowed ? 'block' : 'none';\n",
              "\n",
              "        async function convertToInteractive(key) {\n",
              "          const element = document.querySelector('#df-d3713d86-bc79-46d2-994e-bce0be6dfcbf');\n",
              "          const dataTable =\n",
              "            await google.colab.kernel.invokeFunction('convertToInteractive',\n",
              "                                                     [key], {});\n",
              "          if (!dataTable) return;\n",
              "\n",
              "          const docLinkHtml = 'Like what you see? Visit the ' +\n",
              "            '<a target=\"_blank\" href=https://colab.research.google.com/notebooks/data_table.ipynb>data table notebook</a>'\n",
              "            + ' to learn more about interactive tables.';\n",
              "          element.innerHTML = '';\n",
              "          dataTable['output_type'] = 'display_data';\n",
              "          await google.colab.output.renderOutput(dataTable, element);\n",
              "          const docLink = document.createElement('div');\n",
              "          docLink.innerHTML = docLinkHtml;\n",
              "          element.appendChild(docLink);\n",
              "        }\n",
              "      </script>\n",
              "    </div>\n",
              "  </div>\n",
              "  "
            ]
          },
          "metadata": {},
          "execution_count": 7
        }
      ]
    },
    {
      "cell_type": "code",
      "source": [
        "data.CarName.nunique()"
      ],
      "metadata": {
        "colab": {
          "base_uri": "https://localhost:8080/"
        },
        "id": "gsIFT-4n92-p",
        "outputId": "6698a4d5-009e-4a0a-e4e2-a45d81a79e11"
      },
      "execution_count": 8,
      "outputs": [
        {
          "output_type": "execute_result",
          "data": {
            "text/plain": [
              "147"
            ]
          },
          "metadata": {},
          "execution_count": 8
        }
      ]
    },
    {
      "cell_type": "code",
      "source": [
        "data.dtypes"
      ],
      "metadata": {
        "colab": {
          "base_uri": "https://localhost:8080/"
        },
        "id": "sqg6SF_F9WJQ",
        "outputId": "55677b5b-a57c-4b28-eed0-0beb6b2840ca"
      },
      "execution_count": 9,
      "outputs": [
        {
          "output_type": "execute_result",
          "data": {
            "text/plain": [
              "car_ID                int64\n",
              "symboling             int64\n",
              "CarName              object\n",
              "fueltype             object\n",
              "aspiration           object\n",
              "doornumber           object\n",
              "carbody              object\n",
              "drivewheel           object\n",
              "enginelocation       object\n",
              "wheelbase           float64\n",
              "carlength           float64\n",
              "carwidth            float64\n",
              "carheight           float64\n",
              "curbweight            int64\n",
              "enginetype           object\n",
              "cylindernumber       object\n",
              "enginesize            int64\n",
              "fuelsystem           object\n",
              "boreratio           float64\n",
              "stroke              float64\n",
              "compressionratio    float64\n",
              "horsepower            int64\n",
              "peakrpm               int64\n",
              "citympg               int64\n",
              "highwaympg            int64\n",
              "price               float64\n",
              "dtype: object"
            ]
          },
          "metadata": {},
          "execution_count": 9
        }
      ]
    },
    {
      "cell_type": "code",
      "source": [
        "data.cylindernumber.unique()"
      ],
      "metadata": {
        "colab": {
          "base_uri": "https://localhost:8080/"
        },
        "id": "2QnzhLqX9nZd",
        "outputId": "5eacf7e3-cdeb-4778-e7ac-bc1ffd3f2027"
      },
      "execution_count": 10,
      "outputs": [
        {
          "output_type": "execute_result",
          "data": {
            "text/plain": [
              "array(['four', 'six', 'five', 'three', 'twelve', 'two', 'eight'],\n",
              "      dtype=object)"
            ]
          },
          "metadata": {},
          "execution_count": 10
        }
      ]
    },
    {
      "cell_type": "code",
      "source": [
        "data.enginelocation.unique()"
      ],
      "metadata": {
        "colab": {
          "base_uri": "https://localhost:8080/"
        },
        "id": "Qcb0oRTbNtB_",
        "outputId": "b158edb7-221f-4867-fcae-4240ae3604c3"
      },
      "execution_count": 11,
      "outputs": [
        {
          "output_type": "execute_result",
          "data": {
            "text/plain": [
              "array(['front', 'rear'], dtype=object)"
            ]
          },
          "metadata": {},
          "execution_count": 11
        }
      ]
    },
    {
      "cell_type": "code",
      "source": [
        "data.enginetype.unique()"
      ],
      "metadata": {
        "colab": {
          "base_uri": "https://localhost:8080/"
        },
        "id": "RCsH26VOOHZk",
        "outputId": "01b4a469-31e0-46af-b944-1188b1699b09"
      },
      "execution_count": 12,
      "outputs": [
        {
          "output_type": "execute_result",
          "data": {
            "text/plain": [
              "array(['dohc', 'ohcv', 'ohc', 'l', 'rotor', 'ohcf', 'dohcv'], dtype=object)"
            ]
          },
          "metadata": {},
          "execution_count": 12
        }
      ]
    },
    {
      "cell_type": "code",
      "source": [
        "data.drivewheel.unique()"
      ],
      "metadata": {
        "colab": {
          "base_uri": "https://localhost:8080/"
        },
        "id": "QotW2AzwOTIM",
        "outputId": "065719fc-5e56-4a9d-cd8e-77678e404137"
      },
      "execution_count": 13,
      "outputs": [
        {
          "output_type": "execute_result",
          "data": {
            "text/plain": [
              "array(['rwd', 'fwd', '4wd'], dtype=object)"
            ]
          },
          "metadata": {},
          "execution_count": 13
        }
      ]
    },
    {
      "cell_type": "code",
      "source": [
        "data.aspiration.unique()"
      ],
      "metadata": {
        "colab": {
          "base_uri": "https://localhost:8080/"
        },
        "id": "zS3xOJKhOt5M",
        "outputId": "767e424d-1e3d-409f-e7eb-17f39a52347b"
      },
      "execution_count": 14,
      "outputs": [
        {
          "output_type": "execute_result",
          "data": {
            "text/plain": [
              "array(['std', 'turbo'], dtype=object)"
            ]
          },
          "metadata": {},
          "execution_count": 14
        }
      ]
    },
    {
      "cell_type": "code",
      "source": [
        "# ASSIGINING THE VALUES OF STRING TO INTEGER FOR TRAINING THE MODEL"
      ],
      "metadata": {
        "id": "SVhswcfAreXk"
      },
      "execution_count": null,
      "outputs": []
    },
    {
      "cell_type": "code",
      "source": [
        "data['cylindernumber']= data['cylindernumber'].map({'four':4,'two':2,'six':6,'five':5,'three':3,'twelve':12,'eight':8})\n",
        "data['enginelocation']=data['enginelocation'].map({'front':1,'rear':2})\n",
        "data['drivewheel']=data['drivewheel'].map({'rwd':1,'fwd':2,'4wd':3})\n",
        "data['aspiration']=data['aspiration'].map({'std':1,'turbo':2})"
      ],
      "metadata": {
        "id": "cXdh5JjpAtSQ"
      },
      "execution_count": 15,
      "outputs": []
    },
    {
      "cell_type": "code",
      "source": [
        "data.shape"
      ],
      "metadata": {
        "colab": {
          "base_uri": "https://localhost:8080/"
        },
        "id": "OsfnYx0L8JTu",
        "outputId": "a5c20eb3-4d7b-4ae6-c61b-a970fdd4bbb2"
      },
      "execution_count": 16,
      "outputs": [
        {
          "output_type": "execute_result",
          "data": {
            "text/plain": [
              "(205, 26)"
            ]
          },
          "metadata": {},
          "execution_count": 16
        }
      ]
    },
    {
      "cell_type": "code",
      "source": [
        "data.nunique()"
      ],
      "metadata": {
        "colab": {
          "base_uri": "https://localhost:8080/"
        },
        "id": "J26l4CXz4gQw",
        "outputId": "ef61e4ee-6760-4b07-fc03-d82b25968814"
      },
      "execution_count": 83,
      "outputs": [
        {
          "output_type": "execute_result",
          "data": {
            "text/plain": [
              "car_ID              205\n",
              "symboling             6\n",
              "CarName             147\n",
              "fueltype              2\n",
              "aspiration            2\n",
              "doornumber            2\n",
              "carbody               5\n",
              "drivewheel            3\n",
              "enginelocation        2\n",
              "wheelbase            53\n",
              "carlength            75\n",
              "carwidth             44\n",
              "carheight            49\n",
              "curbweight          171\n",
              "enginetype            7\n",
              "cylindernumber        7\n",
              "enginesize           44\n",
              "fuelsystem            8\n",
              "boreratio            38\n",
              "stroke               37\n",
              "compressionratio     32\n",
              "horsepower           59\n",
              "peakrpm              23\n",
              "citympg              29\n",
              "highwaympg           30\n",
              "price               189\n",
              "dtype: int64"
            ]
          },
          "metadata": {},
          "execution_count": 83
        }
      ]
    },
    {
      "cell_type": "code",
      "source": [
        "corr = data.corr()"
      ],
      "metadata": {
        "id": "xY1TzQgA4FGz"
      },
      "execution_count": 17,
      "outputs": []
    },
    {
      "cell_type": "code",
      "source": [
        "sns.heatmap(corr)"
      ],
      "metadata": {
        "colab": {
          "base_uri": "https://localhost:8080/",
          "height": 362
        },
        "id": "HNv0qpKR55mq",
        "outputId": "bca1683d-763a-4b2c-97c5-0e137512af6a"
      },
      "execution_count": 18,
      "outputs": [
        {
          "output_type": "execute_result",
          "data": {
            "text/plain": [
              "<Axes: >"
            ]
          },
          "metadata": {},
          "execution_count": 18
        },
        {
          "output_type": "display_data",
          "data": {
            "text/plain": [
              "<Figure size 432x288 with 2 Axes>"
            ],
            "image/png": "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\n"
          },
          "metadata": {
            "needs_background": "light"
          }
        }
      ]
    },
    {
      "cell_type": "code",
      "source": [
        "sns.distplot(data[\"price\"],bins = 25)"
      ],
      "metadata": {
        "colab": {
          "base_uri": "https://localhost:8080/",
          "height": 487
        },
        "id": "1GB4v9QT6ElH",
        "outputId": "b786eb54-15ce-4d8b-cd98-7e422e6a44cf"
      },
      "execution_count": 19,
      "outputs": [
        {
          "output_type": "stream",
          "name": "stderr",
          "text": [
            "<ipython-input-19-12d91f27585c>:1: UserWarning: \n",
            "\n",
            "`distplot` is a deprecated function and will be removed in seaborn v0.14.0.\n",
            "\n",
            "Please adapt your code to use either `displot` (a figure-level function with\n",
            "similar flexibility) or `histplot` (an axes-level function for histograms).\n",
            "\n",
            "For a guide to updating your code to use the new functions, please see\n",
            "https://gist.github.com/mwaskom/de44147ed2974457ad6372750bbe5751\n",
            "\n",
            "  sns.distplot(data[\"price\"],bins = 25)\n"
          ]
        },
        {
          "output_type": "execute_result",
          "data": {
            "text/plain": [
              "<Axes: xlabel='price', ylabel='Density'>"
            ]
          },
          "metadata": {},
          "execution_count": 19
        },
        {
          "output_type": "display_data",
          "data": {
            "text/plain": [
              "<Figure size 432x288 with 1 Axes>"
            ],
            "image/png": "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\n"
          },
          "metadata": {
            "needs_background": "light"
          }
        }
      ]
    },
    {
      "cell_type": "code",
      "source": [
        "sns.catplot(x='price',kind = \"box\",data = data)"
      ],
      "metadata": {
        "colab": {
          "base_uri": "https://localhost:8080/",
          "height": 386
        },
        "id": "eBGX5xG56NbZ",
        "outputId": "0a3d3b53-6a83-4846-bc0d-753c7d4b1a19"
      },
      "execution_count": 20,
      "outputs": [
        {
          "output_type": "execute_result",
          "data": {
            "text/plain": [
              "<seaborn.axisgrid.FacetGrid at 0x7f6693a4d3a0>"
            ]
          },
          "metadata": {},
          "execution_count": 20
        },
        {
          "output_type": "display_data",
          "data": {
            "text/plain": [
              "<Figure size 360x360 with 1 Axes>"
            ],
            "image/png": "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\n"
          },
          "metadata": {
            "needs_background": "light"
          }
        }
      ]
    },
    {
      "cell_type": "code",
      "source": [
        "fdata = data.drop('price',axis = 1)\n",
        "ydata = data['price']"
      ],
      "metadata": {
        "id": "ozobmkD76gIZ"
      },
      "execution_count": 21,
      "outputs": []
    },
    {
      "cell_type": "code",
      "source": [
        "fdata.head(10)"
      ],
      "metadata": {
        "colab": {
          "base_uri": "https://localhost:8080/",
          "height": 427
        },
        "id": "csQikaHbQZ_o",
        "outputId": "74972c03-b354-46d1-da85-a08dd95a22ab"
      },
      "execution_count": 36,
      "outputs": [
        {
          "output_type": "execute_result",
          "data": {
            "text/plain": [
              "   car_ID  symboling  aspiration  drivewheel  enginelocation  wheelbase  \\\n",
              "0       1          3           1           1               1       88.6   \n",
              "1       2          3           1           1               1       88.6   \n",
              "2       3          1           1           1               1       94.5   \n",
              "3       4          2           1           2               1       99.8   \n",
              "4       5          2           1           3               1       99.4   \n",
              "5       6          2           1           2               1       99.8   \n",
              "6       7          1           1           2               1      105.8   \n",
              "7       8          1           1           2               1      105.8   \n",
              "8       9          1           2           2               1      105.8   \n",
              "9      10          0           2           3               1       99.5   \n",
              "\n",
              "   carlength  carwidth  carheight  curbweight enginetype  cylindernumber  \\\n",
              "0      168.8      64.1       48.8        2548       dohc               4   \n",
              "1      168.8      64.1       48.8        2548       dohc               4   \n",
              "2      171.2      65.5       52.4        2823       ohcv               6   \n",
              "3      176.6      66.2       54.3        2337        ohc               4   \n",
              "4      176.6      66.4       54.3        2824        ohc               5   \n",
              "5      177.3      66.3       53.1        2507        ohc               5   \n",
              "6      192.7      71.4       55.7        2844        ohc               5   \n",
              "7      192.7      71.4       55.7        2954        ohc               5   \n",
              "8      192.7      71.4       55.9        3086        ohc               5   \n",
              "9      178.2      67.9       52.0        3053        ohc               5   \n",
              "\n",
              "   enginesize  boreratio  stroke  compressionratio  horsepower  peakrpm  \\\n",
              "0         130       3.47    2.68               9.0         111     5000   \n",
              "1         130       3.47    2.68               9.0         111     5000   \n",
              "2         152       2.68    3.47               9.0         154     5000   \n",
              "3         109       3.19    3.40              10.0         102     5500   \n",
              "4         136       3.19    3.40               8.0         115     5500   \n",
              "5         136       3.19    3.40               8.5         110     5500   \n",
              "6         136       3.19    3.40               8.5         110     5500   \n",
              "7         136       3.19    3.40               8.5         110     5500   \n",
              "8         131       3.13    3.40               8.3         140     5500   \n",
              "9         131       3.13    3.40               7.0         160     5500   \n",
              "\n",
              "   citympg  highwaympg  \n",
              "0       21          27  \n",
              "1       21          27  \n",
              "2       19          26  \n",
              "3       24          30  \n",
              "4       18          22  \n",
              "5       19          25  \n",
              "6       19          25  \n",
              "7       19          25  \n",
              "8       17          20  \n",
              "9       16          22  "
            ],
            "text/html": [
              "\n",
              "  <div id=\"df-f9f98a2e-7095-4b9d-96ca-3caf3f4d44c6\">\n",
              "    <div class=\"colab-df-container\">\n",
              "      <div>\n",
              "<style scoped>\n",
              "    .dataframe tbody tr th:only-of-type {\n",
              "        vertical-align: middle;\n",
              "    }\n",
              "\n",
              "    .dataframe tbody tr th {\n",
              "        vertical-align: top;\n",
              "    }\n",
              "\n",
              "    .dataframe thead th {\n",
              "        text-align: right;\n",
              "    }\n",
              "</style>\n",
              "<table border=\"1\" class=\"dataframe\">\n",
              "  <thead>\n",
              "    <tr style=\"text-align: right;\">\n",
              "      <th></th>\n",
              "      <th>car_ID</th>\n",
              "      <th>symboling</th>\n",
              "      <th>aspiration</th>\n",
              "      <th>drivewheel</th>\n",
              "      <th>enginelocation</th>\n",
              "      <th>wheelbase</th>\n",
              "      <th>carlength</th>\n",
              "      <th>carwidth</th>\n",
              "      <th>carheight</th>\n",
              "      <th>curbweight</th>\n",
              "      <th>enginetype</th>\n",
              "      <th>cylindernumber</th>\n",
              "      <th>enginesize</th>\n",
              "      <th>boreratio</th>\n",
              "      <th>stroke</th>\n",
              "      <th>compressionratio</th>\n",
              "      <th>horsepower</th>\n",
              "      <th>peakrpm</th>\n",
              "      <th>citympg</th>\n",
              "      <th>highwaympg</th>\n",
              "    </tr>\n",
              "  </thead>\n",
              "  <tbody>\n",
              "    <tr>\n",
              "      <th>0</th>\n",
              "      <td>1</td>\n",
              "      <td>3</td>\n",
              "      <td>1</td>\n",
              "      <td>1</td>\n",
              "      <td>1</td>\n",
              "      <td>88.6</td>\n",
              "      <td>168.8</td>\n",
              "      <td>64.1</td>\n",
              "      <td>48.8</td>\n",
              "      <td>2548</td>\n",
              "      <td>dohc</td>\n",
              "      <td>4</td>\n",
              "      <td>130</td>\n",
              "      <td>3.47</td>\n",
              "      <td>2.68</td>\n",
              "      <td>9.0</td>\n",
              "      <td>111</td>\n",
              "      <td>5000</td>\n",
              "      <td>21</td>\n",
              "      <td>27</td>\n",
              "    </tr>\n",
              "    <tr>\n",
              "      <th>1</th>\n",
              "      <td>2</td>\n",
              "      <td>3</td>\n",
              "      <td>1</td>\n",
              "      <td>1</td>\n",
              "      <td>1</td>\n",
              "      <td>88.6</td>\n",
              "      <td>168.8</td>\n",
              "      <td>64.1</td>\n",
              "      <td>48.8</td>\n",
              "      <td>2548</td>\n",
              "      <td>dohc</td>\n",
              "      <td>4</td>\n",
              "      <td>130</td>\n",
              "      <td>3.47</td>\n",
              "      <td>2.68</td>\n",
              "      <td>9.0</td>\n",
              "      <td>111</td>\n",
              "      <td>5000</td>\n",
              "      <td>21</td>\n",
              "      <td>27</td>\n",
              "    </tr>\n",
              "    <tr>\n",
              "      <th>2</th>\n",
              "      <td>3</td>\n",
              "      <td>1</td>\n",
              "      <td>1</td>\n",
              "      <td>1</td>\n",
              "      <td>1</td>\n",
              "      <td>94.5</td>\n",
              "      <td>171.2</td>\n",
              "      <td>65.5</td>\n",
              "      <td>52.4</td>\n",
              "      <td>2823</td>\n",
              "      <td>ohcv</td>\n",
              "      <td>6</td>\n",
              "      <td>152</td>\n",
              "      <td>2.68</td>\n",
              "      <td>3.47</td>\n",
              "      <td>9.0</td>\n",
              "      <td>154</td>\n",
              "      <td>5000</td>\n",
              "      <td>19</td>\n",
              "      <td>26</td>\n",
              "    </tr>\n",
              "    <tr>\n",
              "      <th>3</th>\n",
              "      <td>4</td>\n",
              "      <td>2</td>\n",
              "      <td>1</td>\n",
              "      <td>2</td>\n",
              "      <td>1</td>\n",
              "      <td>99.8</td>\n",
              "      <td>176.6</td>\n",
              "      <td>66.2</td>\n",
              "      <td>54.3</td>\n",
              "      <td>2337</td>\n",
              "      <td>ohc</td>\n",
              "      <td>4</td>\n",
              "      <td>109</td>\n",
              "      <td>3.19</td>\n",
              "      <td>3.40</td>\n",
              "      <td>10.0</td>\n",
              "      <td>102</td>\n",
              "      <td>5500</td>\n",
              "      <td>24</td>\n",
              "      <td>30</td>\n",
              "    </tr>\n",
              "    <tr>\n",
              "      <th>4</th>\n",
              "      <td>5</td>\n",
              "      <td>2</td>\n",
              "      <td>1</td>\n",
              "      <td>3</td>\n",
              "      <td>1</td>\n",
              "      <td>99.4</td>\n",
              "      <td>176.6</td>\n",
              "      <td>66.4</td>\n",
              "      <td>54.3</td>\n",
              "      <td>2824</td>\n",
              "      <td>ohc</td>\n",
              "      <td>5</td>\n",
              "      <td>136</td>\n",
              "      <td>3.19</td>\n",
              "      <td>3.40</td>\n",
              "      <td>8.0</td>\n",
              "      <td>115</td>\n",
              "      <td>5500</td>\n",
              "      <td>18</td>\n",
              "      <td>22</td>\n",
              "    </tr>\n",
              "    <tr>\n",
              "      <th>5</th>\n",
              "      <td>6</td>\n",
              "      <td>2</td>\n",
              "      <td>1</td>\n",
              "      <td>2</td>\n",
              "      <td>1</td>\n",
              "      <td>99.8</td>\n",
              "      <td>177.3</td>\n",
              "      <td>66.3</td>\n",
              "      <td>53.1</td>\n",
              "      <td>2507</td>\n",
              "      <td>ohc</td>\n",
              "      <td>5</td>\n",
              "      <td>136</td>\n",
              "      <td>3.19</td>\n",
              "      <td>3.40</td>\n",
              "      <td>8.5</td>\n",
              "      <td>110</td>\n",
              "      <td>5500</td>\n",
              "      <td>19</td>\n",
              "      <td>25</td>\n",
              "    </tr>\n",
              "    <tr>\n",
              "      <th>6</th>\n",
              "      <td>7</td>\n",
              "      <td>1</td>\n",
              "      <td>1</td>\n",
              "      <td>2</td>\n",
              "      <td>1</td>\n",
              "      <td>105.8</td>\n",
              "      <td>192.7</td>\n",
              "      <td>71.4</td>\n",
              "      <td>55.7</td>\n",
              "      <td>2844</td>\n",
              "      <td>ohc</td>\n",
              "      <td>5</td>\n",
              "      <td>136</td>\n",
              "      <td>3.19</td>\n",
              "      <td>3.40</td>\n",
              "      <td>8.5</td>\n",
              "      <td>110</td>\n",
              "      <td>5500</td>\n",
              "      <td>19</td>\n",
              "      <td>25</td>\n",
              "    </tr>\n",
              "    <tr>\n",
              "      <th>7</th>\n",
              "      <td>8</td>\n",
              "      <td>1</td>\n",
              "      <td>1</td>\n",
              "      <td>2</td>\n",
              "      <td>1</td>\n",
              "      <td>105.8</td>\n",
              "      <td>192.7</td>\n",
              "      <td>71.4</td>\n",
              "      <td>55.7</td>\n",
              "      <td>2954</td>\n",
              "      <td>ohc</td>\n",
              "      <td>5</td>\n",
              "      <td>136</td>\n",
              "      <td>3.19</td>\n",
              "      <td>3.40</td>\n",
              "      <td>8.5</td>\n",
              "      <td>110</td>\n",
              "      <td>5500</td>\n",
              "      <td>19</td>\n",
              "      <td>25</td>\n",
              "    </tr>\n",
              "    <tr>\n",
              "      <th>8</th>\n",
              "      <td>9</td>\n",
              "      <td>1</td>\n",
              "      <td>2</td>\n",
              "      <td>2</td>\n",
              "      <td>1</td>\n",
              "      <td>105.8</td>\n",
              "      <td>192.7</td>\n",
              "      <td>71.4</td>\n",
              "      <td>55.9</td>\n",
              "      <td>3086</td>\n",
              "      <td>ohc</td>\n",
              "      <td>5</td>\n",
              "      <td>131</td>\n",
              "      <td>3.13</td>\n",
              "      <td>3.40</td>\n",
              "      <td>8.3</td>\n",
              "      <td>140</td>\n",
              "      <td>5500</td>\n",
              "      <td>17</td>\n",
              "      <td>20</td>\n",
              "    </tr>\n",
              "    <tr>\n",
              "      <th>9</th>\n",
              "      <td>10</td>\n",
              "      <td>0</td>\n",
              "      <td>2</td>\n",
              "      <td>3</td>\n",
              "      <td>1</td>\n",
              "      <td>99.5</td>\n",
              "      <td>178.2</td>\n",
              "      <td>67.9</td>\n",
              "      <td>52.0</td>\n",
              "      <td>3053</td>\n",
              "      <td>ohc</td>\n",
              "      <td>5</td>\n",
              "      <td>131</td>\n",
              "      <td>3.13</td>\n",
              "      <td>3.40</td>\n",
              "      <td>7.0</td>\n",
              "      <td>160</td>\n",
              "      <td>5500</td>\n",
              "      <td>16</td>\n",
              "      <td>22</td>\n",
              "    </tr>\n",
              "  </tbody>\n",
              "</table>\n",
              "</div>\n",
              "      <button class=\"colab-df-convert\" onclick=\"convertToInteractive('df-f9f98a2e-7095-4b9d-96ca-3caf3f4d44c6')\"\n",
              "              title=\"Convert this dataframe to an interactive table.\"\n",
              "              style=\"display:none;\">\n",
              "        \n",
              "  <svg xmlns=\"http://www.w3.org/2000/svg\" height=\"24px\"viewBox=\"0 0 24 24\"\n",
              "       width=\"24px\">\n",
              "    <path d=\"M0 0h24v24H0V0z\" fill=\"none\"/>\n",
              "    <path d=\"M18.56 5.44l.94 2.06.94-2.06 2.06-.94-2.06-.94-.94-2.06-.94 2.06-2.06.94zm-11 1L8.5 8.5l.94-2.06 2.06-.94-2.06-.94L8.5 2.5l-.94 2.06-2.06.94zm10 10l.94 2.06.94-2.06 2.06-.94-2.06-.94-.94-2.06-.94 2.06-2.06.94z\"/><path d=\"M17.41 7.96l-1.37-1.37c-.4-.4-.92-.59-1.43-.59-.52 0-1.04.2-1.43.59L10.3 9.45l-7.72 7.72c-.78.78-.78 2.05 0 2.83L4 21.41c.39.39.9.59 1.41.59.51 0 1.02-.2 1.41-.59l7.78-7.78 2.81-2.81c.8-.78.8-2.07 0-2.86zM5.41 20L4 18.59l7.72-7.72 1.47 1.35L5.41 20z\"/>\n",
              "  </svg>\n",
              "      </button>\n",
              "      \n",
              "  <style>\n",
              "    .colab-df-container {\n",
              "      display:flex;\n",
              "      flex-wrap:wrap;\n",
              "      gap: 12px;\n",
              "    }\n",
              "\n",
              "    .colab-df-convert {\n",
              "      background-color: #E8F0FE;\n",
              "      border: none;\n",
              "      border-radius: 50%;\n",
              "      cursor: pointer;\n",
              "      display: none;\n",
              "      fill: #1967D2;\n",
              "      height: 32px;\n",
              "      padding: 0 0 0 0;\n",
              "      width: 32px;\n",
              "    }\n",
              "\n",
              "    .colab-df-convert:hover {\n",
              "      background-color: #E2EBFA;\n",
              "      box-shadow: 0px 1px 2px rgba(60, 64, 67, 0.3), 0px 1px 3px 1px rgba(60, 64, 67, 0.15);\n",
              "      fill: #174EA6;\n",
              "    }\n",
              "\n",
              "    [theme=dark] .colab-df-convert {\n",
              "      background-color: #3B4455;\n",
              "      fill: #D2E3FC;\n",
              "    }\n",
              "\n",
              "    [theme=dark] .colab-df-convert:hover {\n",
              "      background-color: #434B5C;\n",
              "      box-shadow: 0px 1px 3px 1px rgba(0, 0, 0, 0.15);\n",
              "      filter: drop-shadow(0px 1px 2px rgba(0, 0, 0, 0.3));\n",
              "      fill: #FFFFFF;\n",
              "    }\n",
              "  </style>\n",
              "\n",
              "      <script>\n",
              "        const buttonEl =\n",
              "          document.querySelector('#df-f9f98a2e-7095-4b9d-96ca-3caf3f4d44c6 button.colab-df-convert');\n",
              "        buttonEl.style.display =\n",
              "          google.colab.kernel.accessAllowed ? 'block' : 'none';\n",
              "\n",
              "        async function convertToInteractive(key) {\n",
              "          const element = document.querySelector('#df-f9f98a2e-7095-4b9d-96ca-3caf3f4d44c6');\n",
              "          const dataTable =\n",
              "            await google.colab.kernel.invokeFunction('convertToInteractive',\n",
              "                                                     [key], {});\n",
              "          if (!dataTable) return;\n",
              "\n",
              "          const docLinkHtml = 'Like what you see? Visit the ' +\n",
              "            '<a target=\"_blank\" href=https://colab.research.google.com/notebooks/data_table.ipynb>data table notebook</a>'\n",
              "            + ' to learn more about interactive tables.';\n",
              "          element.innerHTML = '';\n",
              "          dataTable['output_type'] = 'display_data';\n",
              "          await google.colab.output.renderOutput(dataTable, element);\n",
              "          const docLink = document.createElement('div');\n",
              "          docLink.innerHTML = docLinkHtml;\n",
              "          element.appendChild(docLink);\n",
              "        }\n",
              "      </script>\n",
              "    </div>\n",
              "  </div>\n",
              "  "
            ]
          },
          "metadata": {},
          "execution_count": 36
        }
      ]
    },
    {
      "cell_type": "code",
      "source": [
        "fdata = fdata.drop('carbody',axis=1)\n",
        "fdata = fdata.drop('CarName',axis =1)\n",
        "fdata = fdata.drop('fueltype',axis = 1)"
      ],
      "metadata": {
        "id": "GLYfCpixO-Yr"
      },
      "execution_count": 23,
      "outputs": []
    },
    {
      "cell_type": "code",
      "source": [
        "\n",
        "fdata = fdata.drop('fuelsystem',axis = 1)"
      ],
      "metadata": {
        "id": "1G8vs8xVnXzy"
      },
      "execution_count": 31,
      "outputs": []
    },
    {
      "cell_type": "code",
      "source": [
        "fdata = fdata.drop('enginetype',axis = 1)"
      ],
      "metadata": {
        "id": "icCRp1p8nlOz"
      },
      "execution_count": 37,
      "outputs": []
    },
    {
      "cell_type": "code",
      "source": [
        "x_train,x_test,y_train,y_test = train_test_split(fdata,ydata,test_size=0.2,random_state=4)"
      ],
      "metadata": {
        "id": "a_UyeWHQ7KAK"
      },
      "execution_count": 40,
      "outputs": []
    },
    {
      "cell_type": "code",
      "source": [
        "model = LinearRegression()"
      ],
      "metadata": {
        "id": "aph-9yTf8OsZ"
      },
      "execution_count": 34,
      "outputs": []
    },
    {
      "cell_type": "code",
      "source": [
        "model.fit(x_train,y_train)"
      ],
      "metadata": {
        "colab": {
          "base_uri": "https://localhost:8080/",
          "height": 74
        },
        "id": "3olDq89U8vjB",
        "outputId": "c7a9281b-fdef-42d6-a762-319c24417262"
      },
      "execution_count": 41,
      "outputs": [
        {
          "output_type": "execute_result",
          "data": {
            "text/plain": [
              "LinearRegression()"
            ],
            "text/html": [
              "<style>#sk-container-id-1 {color: black;background-color: white;}#sk-container-id-1 pre{padding: 0;}#sk-container-id-1 div.sk-toggleable {background-color: white;}#sk-container-id-1 label.sk-toggleable__label {cursor: pointer;display: block;width: 100%;margin-bottom: 0;padding: 0.3em;box-sizing: border-box;text-align: center;}#sk-container-id-1 label.sk-toggleable__label-arrow:before {content: \"▸\";float: left;margin-right: 0.25em;color: #696969;}#sk-container-id-1 label.sk-toggleable__label-arrow:hover:before {color: black;}#sk-container-id-1 div.sk-estimator:hover label.sk-toggleable__label-arrow:before {color: black;}#sk-container-id-1 div.sk-toggleable__content {max-height: 0;max-width: 0;overflow: hidden;text-align: left;background-color: #f0f8ff;}#sk-container-id-1 div.sk-toggleable__content pre {margin: 0.2em;color: black;border-radius: 0.25em;background-color: #f0f8ff;}#sk-container-id-1 input.sk-toggleable__control:checked~div.sk-toggleable__content {max-height: 200px;max-width: 100%;overflow: auto;}#sk-container-id-1 input.sk-toggleable__control:checked~label.sk-toggleable__label-arrow:before {content: \"▾\";}#sk-container-id-1 div.sk-estimator input.sk-toggleable__control:checked~label.sk-toggleable__label {background-color: #d4ebff;}#sk-container-id-1 div.sk-label input.sk-toggleable__control:checked~label.sk-toggleable__label {background-color: #d4ebff;}#sk-container-id-1 input.sk-hidden--visually {border: 0;clip: rect(1px 1px 1px 1px);clip: rect(1px, 1px, 1px, 1px);height: 1px;margin: -1px;overflow: hidden;padding: 0;position: absolute;width: 1px;}#sk-container-id-1 div.sk-estimator {font-family: monospace;background-color: #f0f8ff;border: 1px dotted black;border-radius: 0.25em;box-sizing: border-box;margin-bottom: 0.5em;}#sk-container-id-1 div.sk-estimator:hover {background-color: #d4ebff;}#sk-container-id-1 div.sk-parallel-item::after {content: \"\";width: 100%;border-bottom: 1px solid gray;flex-grow: 1;}#sk-container-id-1 div.sk-label:hover label.sk-toggleable__label {background-color: #d4ebff;}#sk-container-id-1 div.sk-serial::before {content: \"\";position: absolute;border-left: 1px solid gray;box-sizing: border-box;top: 0;bottom: 0;left: 50%;z-index: 0;}#sk-container-id-1 div.sk-serial {display: flex;flex-direction: column;align-items: center;background-color: white;padding-right: 0.2em;padding-left: 0.2em;position: relative;}#sk-container-id-1 div.sk-item {position: relative;z-index: 1;}#sk-container-id-1 div.sk-parallel {display: flex;align-items: stretch;justify-content: center;background-color: white;position: relative;}#sk-container-id-1 div.sk-item::before, #sk-container-id-1 div.sk-parallel-item::before {content: \"\";position: absolute;border-left: 1px solid gray;box-sizing: border-box;top: 0;bottom: 0;left: 50%;z-index: -1;}#sk-container-id-1 div.sk-parallel-item {display: flex;flex-direction: column;z-index: 1;position: relative;background-color: white;}#sk-container-id-1 div.sk-parallel-item:first-child::after {align-self: flex-end;width: 50%;}#sk-container-id-1 div.sk-parallel-item:last-child::after {align-self: flex-start;width: 50%;}#sk-container-id-1 div.sk-parallel-item:only-child::after {width: 0;}#sk-container-id-1 div.sk-dashed-wrapped {border: 1px dashed gray;margin: 0 0.4em 0.5em 0.4em;box-sizing: border-box;padding-bottom: 0.4em;background-color: white;}#sk-container-id-1 div.sk-label label {font-family: monospace;font-weight: bold;display: inline-block;line-height: 1.2em;}#sk-container-id-1 div.sk-label-container {text-align: center;}#sk-container-id-1 div.sk-container {/* jupyter's `normalize.less` sets `[hidden] { display: none; }` but bootstrap.min.css set `[hidden] { display: none !important; }` so we also need the `!important` here to be able to override the default hidden behavior on the sphinx rendered scikit-learn.org. See: https://github.com/scikit-learn/scikit-learn/issues/21755 */display: inline-block !important;position: relative;}#sk-container-id-1 div.sk-text-repr-fallback {display: none;}</style><div id=\"sk-container-id-1\" class=\"sk-top-container\"><div class=\"sk-text-repr-fallback\"><pre>LinearRegression()</pre><b>In a Jupyter environment, please rerun this cell to show the HTML representation or trust the notebook. <br />On GitHub, the HTML representation is unable to render, please try loading this page with nbviewer.org.</b></div><div class=\"sk-container\" hidden><div class=\"sk-item\"><div class=\"sk-estimator sk-toggleable\"><input class=\"sk-toggleable__control sk-hidden--visually\" id=\"sk-estimator-id-1\" type=\"checkbox\" checked><label for=\"sk-estimator-id-1\" class=\"sk-toggleable__label sk-toggleable__label-arrow\">LinearRegression</label><div class=\"sk-toggleable__content\"><pre>LinearRegression()</pre></div></div></div></div></div>"
            ]
          },
          "metadata": {},
          "execution_count": 41
        }
      ]
    },
    {
      "cell_type": "code",
      "source": [
        "x_prediction = model.predict(x_train) \n",
        "print(x_prediction)"
      ],
      "metadata": {
        "colab": {
          "base_uri": "https://localhost:8080/"
        },
        "id": "drSs6mtLEkB5",
        "outputId": "57db3c51-b765-4d5d-f9b0-c9b246f684b4"
      },
      "execution_count": 44,
      "outputs": [
        {
          "output_type": "stream",
          "name": "stdout",
          "text": [
            "[ 8466.67998166  6998.02936266  7090.93270086  8663.42715593\n",
            "  5264.88362534 10416.04775429 33162.58214955 12694.11701731\n",
            "  5557.13032532 16458.76084098  7139.37632557 21645.90609745\n",
            " 10867.47964397 28260.19834427  7127.85869229 20802.65938684\n",
            "  8628.71815148 19262.86293566 15449.25752723  7523.5566021\n",
            "  6988.11738535 12671.98831888  9779.76929601 14961.28101976\n",
            " 34501.51719485  7012.93547787  9200.46470529 10208.66609821\n",
            " 10334.59917524 12246.89172852  7832.0191706   8968.52788246\n",
            "  7681.92581748 15154.86791358  8813.42438653 17540.82482083\n",
            "  9818.02088772 11114.16547747 20898.02099263  9866.90626764\n",
            " 10344.62476093 10007.84081198  7136.95210037 40865.10607757\n",
            " 10751.20486464 15940.12133432  9245.43069621  8435.27158891\n",
            " 13413.00262847 12948.67492671 10693.88637556 11651.09882916\n",
            " 12684.16689076 11696.7587405   9150.82852025  8687.82244893\n",
            " 15072.27917728 10104.32270055 13293.11346839 20957.78488434\n",
            " 13237.789259   19221.11850531 16543.16524509 27701.62642468\n",
            "  9750.27183576  6951.19130273 11729.29851424  5403.36349988\n",
            "  8573.31512263 31944.46444527 22073.36979672 19223.17687717\n",
            "  6920.00625023 34566.0594951   8384.88938847 26559.69667947\n",
            "  6204.2001693  15857.86303889 27887.10136965 13660.93980635\n",
            " 10219.16407757 15298.57041454  6283.27058209  6266.03480105\n",
            "  8656.42009967 11699.48628383 27532.09169555  6995.80713371\n",
            "  6640.04744499 18215.33647823  7184.36533401  7656.95183096\n",
            "  7820.76742008  8147.5728125   5675.6583448   6415.81505878\n",
            " 13296.8780952   5733.12596524  6591.89965225 19134.60463791\n",
            " 29391.86636615 21976.67179421  7224.28628463 15836.22775596\n",
            " 11172.22138778  9468.5828999   7765.85363925  9692.95211874\n",
            "  6216.20237183  9391.81984454  8570.36338559 20443.44847477\n",
            "  6904.79533533  6216.97997978  5735.70560516 41710.74482894\n",
            "  9891.27988707 19373.78597328  5532.97095171  5502.64087362\n",
            " 15816.28935362 19460.98570474 12927.0117276   6281.56232159\n",
            "  6406.47969445  6541.31611594  6199.38447049  6241.98846058\n",
            " 16985.32782382 14117.94039978 41367.91945894 16060.41726868\n",
            "  5106.07778195 19324.04487994 18467.0096529  10696.68721376\n",
            "  9798.24486518  9882.30841237  6636.94462849 16296.47693489\n",
            "  8484.57303634  7218.40839845 34516.42331006 10289.45921071\n",
            "  6755.20581208 19767.85050063  6331.56207009 17439.0940048\n",
            " 10690.80932758 21432.27502027 10711.59332896  5726.82527954\n",
            " 16258.05431815 20730.08563887 14354.75612459 16182.15804532\n",
            "  6860.98170387 10680.32411941 22126.27264986 28890.63276563\n",
            " 16302.60099084  8581.9658221  10814.2918446   7043.68109689]\n"
          ]
        }
      ]
    },
    {
      "cell_type": "code",
      "source": [
        "plt.scatter(y_train, x_prediction)\n",
        "plt.xlabel(\"actual Charges\")\n",
        "plt.ylabel(\"precdicted Charges\")\n",
        "plt.show()"
      ],
      "metadata": {
        "colab": {
          "base_uri": "https://localhost:8080/",
          "height": 279
        },
        "id": "YcG0Mb49oc7b",
        "outputId": "bec2e45e-7685-4eac-9131-e3b47d06aa24"
      },
      "execution_count": 45,
      "outputs": [
        {
          "output_type": "display_data",
          "data": {
            "text/plain": [
              "<Figure size 432x288 with 1 Axes>"
            ],
            "image/png": "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\n"
          },
          "metadata": {
            "needs_background": "light"
          }
        }
      ]
    },
    {
      "cell_type": "code",
      "source": [
        "#CHECKING THE ACCURACY"
      ],
      "metadata": {
        "id": "rruQdDKcq7MD"
      },
      "execution_count": null,
      "outputs": []
    },
    {
      "cell_type": "code",
      "source": [
        "from sklearn import metrics\n",
        "accu3 = metrics.r2_score(y_train, x_prediction)\n",
        "print(\"R square accuracy for train data is :  \" , accu3)"
      ],
      "metadata": {
        "colab": {
          "base_uri": "https://localhost:8080/"
        },
        "id": "FbBNUamiomXB",
        "outputId": "1a95b1d3-a57b-41bc-a291-266add4e90a0"
      },
      "execution_count": 49,
      "outputs": [
        {
          "output_type": "stream",
          "name": "stdout",
          "text": [
            "R square accuracy for train data is :   0.9041226332511011\n"
          ]
        }
      ]
    },
    {
      "cell_type": "code",
      "source": [
        "#SAVING THE TRAINED MODEL"
      ],
      "metadata": {
        "id": "K6DOeoFDpUIF"
      },
      "execution_count": null,
      "outputs": []
    },
    {
      "cell_type": "code",
      "source": [
        "import pickle"
      ],
      "metadata": {
        "id": "kltkxYe8jsVB"
      },
      "execution_count": 50,
      "outputs": []
    },
    {
      "cell_type": "code",
      "source": [
        "filename = 'CarPrice_trained_model.sav'\n",
        "pickle.dump(model, open(filename,'wb')) "
      ],
      "metadata": {
        "id": "-DjF5Kebk-YP"
      },
      "execution_count": 51,
      "outputs": []
    },
    {
      "cell_type": "code",
      "source": [
        "loaded_model = pickle.load(open('CarPrice_trained_model.sav','rb'))"
      ],
      "metadata": {
        "id": "M83FzRWIlOFz"
      },
      "execution_count": 52,
      "outputs": []
    }
  ]
}
